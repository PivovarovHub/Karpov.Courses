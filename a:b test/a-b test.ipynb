{
    "cells": [
        {
            "cell_type": "markdown",
            "metadata": {},
            "source": [
                "### Задача:\n",
                "Есть таблица с результатами A/B-теста. В числовой колонке показаны значения выручки по каждому пользователю за период эксперимента.\n",
                "\n",
                "Нужно понять, стали ли мы больше зарабатывать с пользователя или нет. Вы уже знаете о существовании t-теста, U-теста Mann-Whitney и бутстрапа. Открытый вопрос: какой инструмент использовать?\n",
                "\n",
                "1. Посчитайте p-value тремя способами: t-тест, U-тест, бутстрап средних\n",
                "\n",
                "2. Сравните результат между тестом и контролем по всем этим кейсам\n",
                "\n",
                "3. Напишите выводы, которые можно сделать на основе анализа примененных критериев. Напишите, почему мы должны использовать тот или иной инструмент: каких предположений о случайной величине нужно придерживаться, какие условия необходимы и т.п."
            ]
        },
        {
            "cell_type": "code",
            "execution_count": 26,
            "metadata": {},
            "outputs": [],
            "source": [
                "import numpy as np\n",
                "import pandas as pd\n",
                "import scipy.stats as sts\n",
                "from scipy.stats import norm\n",
                "from scipy import stats\n",
                "import matplotlib.pyplot as plt\n",
                "import seaborn as sns\n",
                "from tqdm.auto import tqdm\n",
                "import pingouin as pg\n",
                "\n",
                "plt.style.use('ggplot')"
            ]
        },
        {
            "cell_type": "code",
            "execution_count": 27,
            "metadata": {},
            "outputs": [],
            "source": [
                "# Объявим функцию, которая позволит проверять гипотезы с помощью бутстрапа"
            ]
        },
        {
            "cell_type": "code",
            "execution_count": 28,
            "metadata": {},
            "outputs": [],
            "source": [
                "def get_bootstrap(\n",
                "    data_column_1, # числовые значения первой выборки\n",
                "    data_column_2, # числовые значения второй выборки\n",
                "    boot_it = 1000, # количество бутстрэп-подвыборок\n",
                "    statistic = np.mean, # интересующая нас статистика\n",
                "    bootstrap_conf_level = 0.95 # уровень значимости\n",
                "):\n",
                "    boot_data = []\n",
                "    for i in tqdm(range(boot_it)): # извлекаем подвыборки\n",
                "        samples_1 = data_column_1.sample(\n",
                "            len(data_column_1), \n",
                "            replace = True # параметр возвращения\n",
                "        ).values\n",
                "        \n",
                "        samples_2 = data_column_2.sample(\n",
                "            len(data_column_1), \n",
                "            replace = True\n",
                "        ).values\n",
                "        \n",
                "        boot_data.append(statistic(samples_1)-statistic(samples_2)) # mean() - применяем статистику\n",
                "        \n",
                "    pd_boot_data = pd.DataFrame(boot_data)\n",
                "        \n",
                "    left_quant = (1 - bootstrap_conf_level)/2\n",
                "    right_quant = 1 - (1 - bootstrap_conf_level) / 2\n",
                "    quants = pd_boot_data.quantile([left_quant, right_quant])\n",
                "        \n",
                "    p_1 = norm.cdf(\n",
                "        x = 0, \n",
                "        loc = np.mean(boot_data), \n",
                "        scale = np.std(boot_data)\n",
                "    )\n",
                "    p_2 = norm.cdf(\n",
                "        x = 0, \n",
                "        loc = -np.mean(boot_data), \n",
                "        scale = np.std(boot_data)\n",
                "    )\n",
                "    p_value = min(p_1, p_2) * 2\n",
                "        \n",
                "    # Визуализация\n",
                "    _, _, bars = plt.hist(pd_boot_data[0], bins = 50)\n",
                "    for bar in bars:\n",
                "        if bar.get_x() <= quants.iloc[0][0] or bar.get_x() >= quants.iloc[1][0]:\n",
                "            bar.set_facecolor('red')\n",
                "        else: \n",
                "            bar.set_facecolor('grey')\n",
                "            bar.set_edgecolor('black')\n",
                "    \n",
                "    plt.style.use('ggplot')\n",
                "    plt.vlines(quants,ymin=0,ymax=50,linestyle='--')\n",
                "    plt.xlabel('boot_data')\n",
                "    plt.ylabel('frequency')\n",
                "    plt.title(\"Histogram of boot_data\")\n",
                "    plt.show()\n",
                "       \n",
                "    return {\"boot_data\": boot_data, \n",
                "            \"quants\": quants, \n",
                "            \"p_value\": p_value}"
            ]
        },
        {
            "cell_type": "markdown",
            "metadata": {},
            "source": [
                "___"
            ]
        },
        {
            "cell_type": "code",
            "execution_count": 29,
            "metadata": {},
            "outputs": [
                {
                    "data": {
                        "text/html": [
                            "<div>\n",
                            "<style scoped>\n",
                            "    .dataframe tbody tr th:only-of-type {\n",
                            "        vertical-align: middle;\n",
                            "    }\n",
                            "\n",
                            "    .dataframe tbody tr th {\n",
                            "        vertical-align: top;\n",
                            "    }\n",
                            "\n",
                            "    .dataframe thead th {\n",
                            "        text-align: right;\n",
                            "    }\n",
                            "</style>\n",
                            "<table border=\"1\" class=\"dataframe\">\n",
                            "  <thead>\n",
                            "    <tr style=\"text-align: right;\">\n",
                            "      <th></th>\n",
                            "      <th>Unnamed: 0</th>\n",
                            "      <th>value</th>\n",
                            "      <th>experimentVariant</th>\n",
                            "    </tr>\n",
                            "  </thead>\n",
                            "  <tbody>\n",
                            "    <tr>\n",
                            "      <th>0</th>\n",
                            "      <td>1</td>\n",
                            "      <td>10,3804953740268</td>\n",
                            "      <td>Control</td>\n",
                            "    </tr>\n",
                            "    <tr>\n",
                            "      <th>1</th>\n",
                            "      <td>2</td>\n",
                            "      <td>9,54686666784264</td>\n",
                            "      <td>Control</td>\n",
                            "    </tr>\n",
                            "    <tr>\n",
                            "      <th>2</th>\n",
                            "      <td>3</td>\n",
                            "      <td>11,0882146509904</td>\n",
                            "      <td>Control</td>\n",
                            "    </tr>\n",
                            "    <tr>\n",
                            "      <th>3</th>\n",
                            "      <td>4</td>\n",
                            "      <td>10,1472740570122</td>\n",
                            "      <td>Control</td>\n",
                            "    </tr>\n",
                            "    <tr>\n",
                            "      <th>4</th>\n",
                            "      <td>5</td>\n",
                            "      <td>9,78980767524929</td>\n",
                            "      <td>Control</td>\n",
                            "    </tr>\n",
                            "  </tbody>\n",
                            "</table>\n",
                            "</div>"
                        ],
                        "text/plain": [
                            "   Unnamed: 0             value experimentVariant\n",
                            "0           1  10,3804953740268           Control\n",
                            "1           2  9,54686666784264           Control\n",
                            "2           3  11,0882146509904           Control\n",
                            "3           4  10,1472740570122           Control\n",
                            "4           5  9,78980767524929           Control"
                        ]
                    },
                    "execution_count": 29,
                    "metadata": {},
                    "output_type": "execute_result"
                }
            ],
            "source": [
                "# Загружаем данные и смотрим на них\n",
                "df = pd.read_csv('hw_bootstrap.csv', sep=';')\n",
                "df.head(5)"
            ]
        },
        {
            "cell_type": "code",
            "execution_count": 30,
            "metadata": {},
            "outputs": [],
            "source": [
                "# Уберем ненужную нам колонку с порядковыми номерами\n",
                "df.drop(columns=df.columns[0], inplace=True)"
            ]
        },
        {
            "cell_type": "code",
            "execution_count": 31,
            "metadata": {},
            "outputs": [
                {
                    "data": {
                        "text/plain": [
                            "value                0\n",
                            "experimentVariant    0\n",
                            "dtype: int64"
                        ]
                    },
                    "execution_count": 31,
                    "metadata": {},
                    "output_type": "execute_result"
                }
            ],
            "source": [
                "# Проверим данные на пустые значения\n",
                "df.isna().sum()"
            ]
        },
        {
            "cell_type": "code",
            "execution_count": 32,
            "metadata": {},
            "outputs": [
                {
                    "data": {
                        "text/plain": [
                            "value                object\n",
                            "experimentVariant    object\n",
                            "dtype: object"
                        ]
                    },
                    "execution_count": 32,
                    "metadata": {},
                    "output_type": "execute_result"
                }
            ],
            "source": [
                "# Посмотрим типы данных\n",
                "df.dtypes"
            ]
        },
        {
            "cell_type": "code",
            "execution_count": 33,
            "metadata": {},
            "outputs": [],
            "source": [
                "# Приводим даннык в колонке value к типу float\n",
                "df.value = df.value.apply(lambda x: x.replace(',','.')).astype(float)"
            ]
        },
        {
            "cell_type": "code",
            "execution_count": 34,
            "metadata": {},
            "outputs": [],
            "source": [
                "# Делаем две выборки по данным из двух групп\n",
                "sample_1 = df[df.experimentVariant == 'Control'].value\n",
                "sample_2 = df[df.experimentVariant == 'Treatment'].value"
            ]
        },
        {
            "cell_type": "code",
            "execution_count": 35,
            "metadata": {},
            "outputs": [
                {
                    "data": {
                        "image/png": "[encoded data removed]",
                        "text/plain": [
                            "<Figure size 432x288 with 1 Axes>"
                        ]
                    },
                    "metadata": {},
                    "output_type": "display_data"
                }
            ],
            "source": [
                "# Построим график распределения первой выборки\n",
                "sns.histplot(sample_1);"
            ]
        },
        {
            "cell_type": "code",
            "execution_count": 36,
            "metadata": {},
            "outputs": [
                {
                    "data": {
                        "image/png": "[encoded data removed]",
                        "text/plain": [
                            "<Figure size 432x288 with 1 Axes>"
                        ]
                    },
                    "metadata": {},
                    "output_type": "display_data"
                }
            ],
            "source": [
                "# Построим график распределения второй выборки\n",
                "sns.histplot(sample_2);"
            ]
        },
        {
            "cell_type": "markdown",
            "metadata": {},
            "source": [
                "Визуально видно, что второе распределение не является нормальным, но давайте это еще проверим"
            ]
        },
        {
            "cell_type": "code",
            "execution_count": 37,
            "metadata": {},
            "outputs": [
                {
                    "data": {
                        "text/html": [
                            "<div>\n",
                            "<style scoped>\n",
                            "    .dataframe tbody tr th:only-of-type {\n",
                            "        vertical-align: middle;\n",
                            "    }\n",
                            "\n",
                            "    .dataframe tbody tr th {\n",
                            "        vertical-align: top;\n",
                            "    }\n",
                            "\n",
                            "    .dataframe thead th {\n",
                            "        text-align: right;\n",
                            "    }\n",
                            "</style>\n",
                            "<table border=\"1\" class=\"dataframe\">\n",
                            "  <thead>\n",
                            "    <tr style=\"text-align: right;\">\n",
                            "      <th></th>\n",
                            "      <th>W</th>\n",
                            "      <th>pval</th>\n",
                            "      <th>normal</th>\n",
                            "    </tr>\n",
                            "  </thead>\n",
                            "  <tbody>\n",
                            "    <tr>\n",
                            "      <th>Control</th>\n",
                            "      <td>2.943459</td>\n",
                            "      <td>2.295282e-01</td>\n",
                            "      <td>True</td>\n",
                            "    </tr>\n",
                            "    <tr>\n",
                            "      <th>Treatment</th>\n",
                            "      <td>929.515767</td>\n",
                            "      <td>1.439514e-202</td>\n",
                            "      <td>False</td>\n",
                            "    </tr>\n",
                            "  </tbody>\n",
                            "</table>\n",
                            "</div>"
                        ],
                        "text/plain": [
                            "                    W           pval  normal\n",
                            "Control      2.943459   2.295282e-01    True\n",
                            "Treatment  929.515767  1.439514e-202   False"
                        ]
                    },
                    "execution_count": 37,
                    "metadata": {},
                    "output_type": "execute_result"
                }
            ],
            "source": [
                "# Проведем тест на нормальность распределения\n",
                "pg.normality(df, dv='value', group='experimentVariant', method = 'normaltest')"
            ]
        },
        {
            "cell_type": "code",
            "execution_count": 38,
            "metadata": {},
            "outputs": [
                {
                    "data": {
                        "text/html": [
                            "<div>\n",
                            "<style scoped>\n",
                            "    .dataframe tbody tr th:only-of-type {\n",
                            "        vertical-align: middle;\n",
                            "    }\n",
                            "\n",
                            "    .dataframe tbody tr th {\n",
                            "        vertical-align: top;\n",
                            "    }\n",
                            "\n",
                            "    .dataframe thead th {\n",
                            "        text-align: right;\n",
                            "    }\n",
                            "</style>\n",
                            "<table border=\"1\" class=\"dataframe\">\n",
                            "  <thead>\n",
                            "    <tr style=\"text-align: right;\">\n",
                            "      <th></th>\n",
                            "      <th>W</th>\n",
                            "      <th>pval</th>\n",
                            "      <th>equal_var</th>\n",
                            "    </tr>\n",
                            "  </thead>\n",
                            "  <tbody>\n",
                            "    <tr>\n",
                            "      <th>levene</th>\n",
                            "      <td>4.297837</td>\n",
                            "      <td>0.038417</td>\n",
                            "      <td>False</td>\n",
                            "    </tr>\n",
                            "  </tbody>\n",
                            "</table>\n",
                            "</div>"
                        ],
                        "text/plain": [
                            "               W      pval  equal_var\n",
                            "levene  4.297837  0.038417      False"
                        ]
                    },
                    "execution_count": 38,
                    "metadata": {},
                    "output_type": "execute_result"
                }
            ],
            "source": [
                "# Проверим гомогенность дисперсий\n",
                "pg.homoscedasticity(data = df, dv='value', group='experimentVariant')"
            ]
        },
        {
            "cell_type": "markdown",
            "metadata": {},
            "source": [
                "___"
            ]
        },
        {
            "cell_type": "markdown",
            "metadata": {},
            "source": [
                "#### Предобработку выполнили, приступим к решению.\n",
                "\n",
                "##### Выведем гипотезы:\n",
                "\n",
                "**Для бутстрапа и T-критерия:**\n",
                "\n",
                "H0: Средние значения в двух группах не различаются\n",
                "H1: Средние значения различаются\n",
                "\n",
                "**Для Манн-Уитни:**\n",
                "\n",
                "H0: Случайно выбранное значение из одной выборки равновероятно больше или меньше случайного значения из другой выборки\n",
                "H1: Случайно выбранное значение из одной выборки не равновероятно больше или меньше случайного значения из другой выборки\n",
                "\n"
            ]
        },
        {
            "cell_type": "code",
            "execution_count": 39,
            "metadata": {},
            "outputs": [
                {
                    "data": {
                        "application/vnd.jupyter.widget-view+json": {
                            "model_id": "5d64e758f3534b25b841570871e4a072",
                            "version_major": 2,
                            "version_minor": 0
                        },
                        "text/plain": [
                            "  0%|          | 0/1000 [00:00<?, ?it/s]"
                        ]
                    },
                    "metadata": {},
                    "output_type": "display_data"
                },
                {
                    "data": {
                        "image/png": "[encoded data removed]",
                        "text/plain": [
                            "<Figure size 432x288 with 1 Axes>"
                        ]
                    },
                    "metadata": {},
                    "output_type": "display_data"
                }
            ],
            "source": [
                "# Применяем бутстрап\n",
                "booted_data = get_bootstrap(sample_1, sample_2)"
            ]
        },
        {
            "cell_type": "code",
            "execution_count": 40,
            "metadata": {},
            "outputs": [
                {
                    "data": {
                        "text/plain": [
                            "0.045992891347957456"
                        ]
                    },
                    "execution_count": 40,
                    "metadata": {},
                    "output_type": "execute_result"
                }
            ],
            "source": [
                "# p-value\n",
                "booted_data['p_value']"
            ]
        },
        {
            "cell_type": "code",
            "execution_count": 41,
            "metadata": {},
            "outputs": [
                {
                    "data": {
                        "text/html": [
                            "<div>\n",
                            "<style scoped>\n",
                            "    .dataframe tbody tr th:only-of-type {\n",
                            "        vertical-align: middle;\n",
                            "    }\n",
                            "\n",
                            "    .dataframe tbody tr th {\n",
                            "        vertical-align: top;\n",
                            "    }\n",
                            "\n",
                            "    .dataframe thead th {\n",
                            "        text-align: right;\n",
                            "    }\n",
                            "</style>\n",
                            "<table border=\"1\" class=\"dataframe\">\n",
                            "  <thead>\n",
                            "    <tr style=\"text-align: right;\">\n",
                            "      <th></th>\n",
                            "      <th>0</th>\n",
                            "    </tr>\n",
                            "  </thead>\n",
                            "  <tbody>\n",
                            "    <tr>\n",
                            "      <th>0.025</th>\n",
                            "      <td>-37.019056</td>\n",
                            "    </tr>\n",
                            "    <tr>\n",
                            "      <th>0.975</th>\n",
                            "      <td>-2.391678</td>\n",
                            "    </tr>\n",
                            "  </tbody>\n",
                            "</table>\n",
                            "</div>"
                        ],
                        "text/plain": [
                            "               0\n",
                            "0.025 -37.019056\n",
                            "0.975  -2.391678"
                        ]
                    },
                    "execution_count": 41,
                    "metadata": {},
                    "output_type": "execute_result"
                }
            ],
            "source": [
                "# Доверительные интервалы\n",
                "booted_data[\"quants\"]"
            ]
        },
        {
            "cell_type": "markdown",
            "metadata": {},
            "source": [
                "**Результат бутстрап средних значений:**\n",
                "\n",
                "**Средние значения в группах test и control различаются на заданном уровне значимости**, тк  нулевое значение разницы между двумя средними не попадает в доверительный интервал\n",
                "\n",
                "**p-value < 0.05 позволяет отвергнуть нулевую гипотезу в пользу альтернативной**."
            ]
        },
        {
            "cell_type": "code",
            "execution_count": 42,
            "metadata": {},
            "outputs": [
                {
                    "data": {
                        "text/plain": [
                            "MannwhitneyuResult(statistic=124189.5, pvalue=0.8592148582485579)"
                        ]
                    },
                    "execution_count": 42,
                    "metadata": {},
                    "output_type": "execute_result"
                }
            ],
            "source": [
                "# Используем метод Манна-Уитни\n",
                "sts.mannwhitneyu(sample_1, sample_2)"
            ]
        },
        {
            "cell_type": "markdown",
            "metadata": {},
            "source": [
                "**Результат U критерия Манна-Уитни:**\n",
                "\n",
                "**Значение p-value > 0.05** нет оснований отвергнуть нулевую гипотезу,  статистически значимые различия между группами test и control отстутствуют"
            ]
        },
        {
            "cell_type": "code",
            "execution_count": 43,
            "metadata": {},
            "outputs": [
                {
                    "data": {
                        "text/plain": [
                            "Ttest_indResult(statistic=-2.0729020485356604, pvalue=0.038437593613498765)"
                        ]
                    },
                    "execution_count": 43,
                    "metadata": {},
                    "output_type": "execute_result"
                }
            ],
            "source": [
                "# Используем t test\n",
                "stats.ttest_ind(sample_1, sample_2)"
            ]
        },
        {
            "cell_type": "markdown",
            "metadata": {},
            "source": [
                "**Результат T-test:**\n",
                "\n",
                "**Значение p-value < 0.05** есть основания отклонить нулевую гипотезу, т.к присутсвуют статистически значимые различия между группами test и control "
            ]
        },
        {
            "cell_type": "markdown",
            "metadata": {},
            "source": [
                "___"
            ]
        },
        {
            "cell_type": "markdown",
            "metadata": {},
            "source": [
                "Вывод:\n",
                "\n",
                "Тесты показали разные результаты, но при проведении предобработке данных мы выявили, что данные не удовлетваряют условий для применения некоторых из тестов:\n",
                "- Отсутсвует нормальность распределения и гомогенность дисперсии, что влияет на результат t-test'a, а значет его в данном случае лучше не применять\n",
                "- У нас достаточно большое кол-во данных, потому применять бутстрап в данном случае нелогично.\n",
                "\n",
                "**Потому в данной ситуации лучшим решением будет воспользовать методом Манна-Уитни.\n",
                "По результатом теста статестически значимых различий не было, а значит заработать нам не удалось.**\n",
                "\n",
                "\n",
                "Давайте попробуем избавиться от выбросов и посмотреть на результаты еще раз."
            ]
        },
        {
            "cell_type": "markdown",
            "metadata": {},
            "source": [
                "___"
            ]
        },
        {
            "cell_type": "code",
            "execution_count": 44,
            "metadata": {},
            "outputs": [
                {
                    "data": {
                        "text/plain": [
                            "995    1000.0\n",
                            "996    1200.0\n",
                            "997    1500.0\n",
                            "998    2000.0\n",
                            "999    3000.0\n",
                            "Name: value, dtype: float64"
                        ]
                    },
                    "execution_count": 44,
                    "metadata": {},
                    "output_type": "execute_result"
                }
            ],
            "source": [
                "# найдем значения сильно превышающие среднее\n",
                "sample_2[sample_2.values > 100]"
            ]
        },
        {
            "cell_type": "code",
            "execution_count": 45,
            "metadata": {},
            "outputs": [
                {
                    "name": "stderr",
                    "output_type": "stream",
                    "text": [
                        "/var/folders/6z/mmgx3mxs29n469zt9_ldj7840000gn/T/ipykernel_80749/3811824033.py:3: SettingWithCopyWarning: \n",
                        "A value is trying to be set on a copy of a slice from a DataFrame\n",
                        "\n",
                        "See the caveats in the documentation: https://pandas.pydata.org/pandas-docs/stable/user_guide/indexing.html#returning-a-view-versus-a-copy\n",
                        "  f_sample_2[f_sample_2.values > 100] = sample_2.quantile(0.5)\n"
                    ]
                }
            ],
            "source": [
                "# Заменим выбросы медианным значением\n",
                "f_sample_2 = sample_2\n",
                "f_sample_2[f_sample_2.values > 100] = sample_2.quantile(0.5)"
            ]
        },
        {
            "cell_type": "code",
            "execution_count": 46,
            "metadata": {},
            "outputs": [
                {
                    "data": {
                        "image/png": "[encoded data removed]",
                        "text/plain": [
                            "<Figure size 432x288 with 1 Axes>"
                        ]
                    },
                    "metadata": {},
                    "output_type": "display_data"
                }
            ],
            "source": [
                "# Посмотрим на распределение\n",
                "sns.histplot(f_sample_2);"
            ]
        },
        {
            "cell_type": "markdown",
            "metadata": {},
            "source": [
                "Теперь можно нормально использовать t-test"
            ]
        },
        {
            "cell_type": "code",
            "execution_count": 47,
            "metadata": {},
            "outputs": [
                {
                    "data": {
                        "text/plain": [
                            "0.9340741515233673"
                        ]
                    },
                    "execution_count": 47,
                    "metadata": {},
                    "output_type": "execute_result"
                }
            ],
            "source": [
                "# Используем t test\n",
                "stats.ttest_ind(sample_1, f_sample_2).pvalue"
            ]
        },
        {
            "cell_type": "markdown",
            "metadata": {},
            "source": [
                "**Результат T-test:**\n",
                "\n",
                "**Значение p-value > 0.05** оснований отклонить нулевую гипотезу нет, статистически значимые различия между группами test и control отсутсвуют"
            ]
        },
        {
            "cell_type": "code",
            "execution_count": 48,
            "metadata": {},
            "outputs": [
                {
                    "data": {
                        "text/plain": [
                            "0.9242852188382452"
                        ]
                    },
                    "execution_count": 48,
                    "metadata": {},
                    "output_type": "execute_result"
                }
            ],
            "source": [
                "# Используем метод Манна-Уитни\n",
                "sts.mannwhitneyu(sample_1, f_sample_2).pvalue"
            ]
        },
        {
            "cell_type": "markdown",
            "metadata": {},
            "source": [
                "**Результат U критерия Манна-Уитни:**\n",
                "\n",
                "**Значение p-value > 0.05** нет оснований отвергнуть нулевую гипотезу,  статистически значимые различия между группами test и control отстутствуют"
            ]
        },
        {
            "cell_type": "code",
            "execution_count": 49,
            "metadata": {},
            "outputs": [
                {
                    "data": {
                        "application/vnd.jupyter.widget-view+json": {
                            "model_id": "ce2e8d666399408aa0923955590cbe90",
                            "version_major": 2,
                            "version_minor": 0
                        },
                        "text/plain": [
                            "  0%|          | 0/1000 [00:00<?, ?it/s]"
                        ]
                    },
                    "metadata": {},
                    "output_type": "display_data"
                },
                {
                    "data": {
                        "image/png": "[encoded data removed]",
                        "text/plain": [
                            "<Figure size 432x288 with 1 Axes>"
                        ]
                    },
                    "metadata": {},
                    "output_type": "display_data"
                },
                {
                    "data": {
                        "text/plain": [
                            "0.9062321053005118"
                        ]
                    },
                    "execution_count": 49,
                    "metadata": {},
                    "output_type": "execute_result"
                }
            ],
            "source": [
                "# Применяем бутстрап\n",
                "f_booted_data = get_bootstrap(sample_1, f_sample_2)\n",
                "f_booted_data['p_value']"
            ]
        },
        {
            "cell_type": "code",
            "execution_count": 50,
            "metadata": {},
            "outputs": [
                {
                    "data": {
                        "text/html": [
                            "<div>\n",
                            "<style scoped>\n",
                            "    .dataframe tbody tr th:only-of-type {\n",
                            "        vertical-align: middle;\n",
                            "    }\n",
                            "\n",
                            "    .dataframe tbody tr th {\n",
                            "        vertical-align: top;\n",
                            "    }\n",
                            "\n",
                            "    .dataframe thead th {\n",
                            "        text-align: right;\n",
                            "    }\n",
                            "</style>\n",
                            "<table border=\"1\" class=\"dataframe\">\n",
                            "  <thead>\n",
                            "    <tr style=\"text-align: right;\">\n",
                            "      <th></th>\n",
                            "      <th>0</th>\n",
                            "    </tr>\n",
                            "  </thead>\n",
                            "  <tbody>\n",
                            "    <tr>\n",
                            "      <th>0.025</th>\n",
                            "      <td>-0.112448</td>\n",
                            "    </tr>\n",
                            "    <tr>\n",
                            "      <th>0.975</th>\n",
                            "      <td>0.119663</td>\n",
                            "    </tr>\n",
                            "  </tbody>\n",
                            "</table>\n",
                            "</div>"
                        ],
                        "text/plain": [
                            "              0\n",
                            "0.025 -0.112448\n",
                            "0.975  0.119663"
                        ]
                    },
                    "execution_count": 50,
                    "metadata": {},
                    "output_type": "execute_result"
                }
            ],
            "source": [
                "f_booted_data[\"quants\"]"
            ]
        },
        {
            "cell_type": "markdown",
            "metadata": {},
            "source": [
                "**Результат бутстрап средних значений:**\n",
                "\n",
                "**Значение p-value > 0.05** оснований отклонить нулевую гипотезу нет, статистически значимые различия между группами test и control отсутсвуют.\n",
                "Нульевое значение разницы попадает в доверительный интервал."
            ]
        },
        {
            "cell_type": "markdown",
            "metadata": {},
            "source": [
                "___"
            ]
        },
        {
            "cell_type": "markdown",
            "metadata": {},
            "source": [
                "Вывод:\n",
                "\n",
                "Как видно теперь все 3 теста показывают примерно одинаковый p-value.\n",
                "Все три теста оставляют нулевую гипотезу, а значит денег мы не заработали.\n",
                "\n",
                "Так как распределение нормальноe, с данными в текущем формате лучше было использовать t-test."
            ]
        }
    ],
    "metadata": {
        "kernelspec": {
            "display_name": "Python 3",
            "language": "python",
            "name": "python3"
        },
        "language_info": {
            "codemirror_mode": {
                "name": "ipython",
                "version": 3
            },
            "file_extension": ".py",
            "mimetype": "text/x-python",
            "name": "python",
            "nbconvert_exporter": "python",
            "pygments_lexer": "ipython3",
            "version": "3.9.12"
        },
        "vscode": {
            "interpreter": {
                "hash": "f5220056909a2b7f24cd309f2b469a86eb0e01dedd341a7a0197a037a757159f"
            }
        }
    },
    "nbformat": 4,
    "nbformat_minor": 4
}
