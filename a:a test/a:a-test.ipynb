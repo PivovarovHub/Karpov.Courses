{
    "cells": [
        {
            "cell_type": "markdown",
            "metadata": {},
            "source": [
                "    Задача:\n",
                "- Запустите A/A-тест\n",
                "- Посчитайте FPR на уровне альфа = 0.05 (ставьте подвыборки без возвращения объемом 1000).\n",
                "- Найдите причины поломки сплит-системы, ориентируясь на результаты эксперимента.\n",
                "- Напишите выводы, которые можно сделать на основе анализа результатов A/A-теста"
            ]
        },
        {
            "cell_type": "code",
            "execution_count": 2,
            "metadata": {},
            "outputs": [],
            "source": [
                "# Импортируем нужные библиотеки\n",
                "import numpy as np\n",
                "import pandas as pd\n",
                "from scipy import stats\n",
                "import matplotlib.pyplot as plt\n",
                "\n",
                "from tqdm.auto import tqdm"
            ]
        },
        {
            "cell_type": "code",
            "execution_count": 4,
            "metadata": {},
            "outputs": [],
            "source": [
                "# Загружаем датафрейм\n",
                "df = pd.read_csv('hw_aa.csv', sep=';').drop(columns='Unnamed: 0')"
            ]
        },
        {
            "cell_type": "code",
            "execution_count": 5,
            "metadata": {},
            "outputs": [
                {
                    "data": {
                        "text/html": [
                            "<div>\n",
                            "<style scoped>\n",
                            "    .dataframe tbody tr th:only-of-type {\n",
                            "        vertical-align: middle;\n",
                            "    }\n",
                            "\n",
                            "    .dataframe tbody tr th {\n",
                            "        vertical-align: top;\n",
                            "    }\n",
                            "\n",
                            "    .dataframe thead th {\n",
                            "        text-align: right;\n",
                            "    }\n",
                            "</style>\n",
                            "<table border=\"1\" class=\"dataframe\">\n",
                            "  <thead>\n",
                            "    <tr style=\"text-align: right;\">\n",
                            "      <th></th>\n",
                            "      <th>uid</th>\n",
                            "      <th>experimentVariant</th>\n",
                            "      <th>version</th>\n",
                            "      <th>purchase</th>\n",
                            "    </tr>\n",
                            "  </thead>\n",
                            "  <tbody>\n",
                            "    <tr>\n",
                            "      <th>0</th>\n",
                            "      <td>c4ca4238a0b923820dcc509a6f75849b</td>\n",
                            "      <td>1</td>\n",
                            "      <td>v2.8.0</td>\n",
                            "      <td>0</td>\n",
                            "    </tr>\n",
                            "    <tr>\n",
                            "      <th>1</th>\n",
                            "      <td>c81e728d9d4c2f636f067f89cc14862c</td>\n",
                            "      <td>0</td>\n",
                            "      <td>v2.9.0</td>\n",
                            "      <td>0</td>\n",
                            "    </tr>\n",
                            "    <tr>\n",
                            "      <th>2</th>\n",
                            "      <td>eccbc87e4b5ce2fe28308fd9f2a7baf3</td>\n",
                            "      <td>1</td>\n",
                            "      <td>v2.9.0</td>\n",
                            "      <td>0</td>\n",
                            "    </tr>\n",
                            "    <tr>\n",
                            "      <th>3</th>\n",
                            "      <td>a87ff679a2f3e71d9181a67b7542122c</td>\n",
                            "      <td>1</td>\n",
                            "      <td>v2.8.0</td>\n",
                            "      <td>0</td>\n",
                            "    </tr>\n",
                            "    <tr>\n",
                            "      <th>4</th>\n",
                            "      <td>e4da3b7fbbce2345d7772b0674a318d5</td>\n",
                            "      <td>1</td>\n",
                            "      <td>v2.8.0</td>\n",
                            "      <td>0</td>\n",
                            "    </tr>\n",
                            "  </tbody>\n",
                            "</table>\n",
                            "</div>"
                        ],
                        "text/plain": [
                            "                                uid  experimentVariant version  purchase\n",
                            "0  c4ca4238a0b923820dcc509a6f75849b                  1  v2.8.0         0\n",
                            "1  c81e728d9d4c2f636f067f89cc14862c                  0  v2.9.0         0\n",
                            "2  eccbc87e4b5ce2fe28308fd9f2a7baf3                  1  v2.9.0         0\n",
                            "3  a87ff679a2f3e71d9181a67b7542122c                  1  v2.8.0         0\n",
                            "4  e4da3b7fbbce2345d7772b0674a318d5                  1  v2.8.0         0"
                        ]
                    },
                    "execution_count": 5,
                    "metadata": {},
                    "output_type": "execute_result"
                }
            ],
            "source": [
                "# Посмотрим на датафрейм\n",
                "df.head()"
            ]
        },
        {
            "cell_type": "code",
            "execution_count": 80,
            "metadata": {},
            "outputs": [
                {
                    "data": {
                        "text/plain": [
                            "uid                  object\n",
                            "experimentVariant     int64\n",
                            "version              object\n",
                            "purchase              int64\n",
                            "dtype: object"
                        ]
                    },
                    "execution_count": 80,
                    "metadata": {},
                    "output_type": "execute_result"
                }
            ],
            "source": [
                "df.dtypes"
            ]
        },
        {
            "cell_type": "code",
            "execution_count": 78,
            "metadata": {},
            "outputs": [
                {
                    "data": {
                        "text/plain": [
                            "uid                  0\n",
                            "experimentVariant    0\n",
                            "version              0\n",
                            "purchase             0\n",
                            "dtype: int64"
                        ]
                    },
                    "execution_count": 78,
                    "metadata": {},
                    "output_type": "execute_result"
                }
            ],
            "source": [
                "df.isnull().sum()"
            ]
        },
        {
            "cell_type": "markdown",
            "metadata": {},
            "source": [
                "Разобьем наши данные на 2 группы experimentVariant == 1 и experimentVariant == 0 и запустим А/А тест"
            ]
        },
        {
            "cell_type": "code",
            "execution_count": 55,
            "metadata": {},
            "outputs": [
                {
                    "data": {
                        "application/vnd.jupyter.widget-view+json": {
                            "model_id": "2983a72d190c4add903eff34c032e789",
                            "version_major": 2,
                            "version_minor": 0
                        },
                        "text/plain": [
                            "  0%|          | 0/1000 [00:00<?, ?it/s]"
                        ]
                    },
                    "metadata": {},
                    "output_type": "display_data"
                },
                {
                    "data": {
                        "image/png": "[encoded data removed]",
                        "text/plain": [
                            "<Figure size 432x288 with 1 Axes>"
                        ]
                    },
                    "metadata": {},
                    "output_type": "display_data"
                },
                {
                    "data": {
                        "text/plain": [
                            "0.939"
                        ]
                    },
                    "execution_count": 55,
                    "metadata": {},
                    "output_type": "execute_result"
                }
            ],
            "source": [
                "simulations = 1000\n",
                "n_s = 1000\n",
                "res = []\n",
                "\n",
                "\n",
                "\n",
                "# Запуск A/A теста\n",
                "for i in tqdm(range(simulations)):\n",
                "    s1 = df[df.experimentVariant == 0].purchase.sample(n_s, replace = False).values\n",
                "    s2 = df[df.experimentVariant == 1].purchase.sample(n_s, replace = False).values\n",
                "    res.append(stats.ttest_ind(s1, s2, equal_var = False)[1]) # сохраняем pvalue\n",
                "\n",
                "plt.hist(res, bins = 50)\n",
                "plt.style.use('ggplot')\n",
                "plt.xlabel('pvalues')\n",
                "plt.ylabel('frequency')\n",
                "plt.title(\"Histogram of ttest A/A simulations \")\n",
                "plt.show()\n",
                "\n",
                "# Проверяем, что количество ложноположительных случаев не превышает альфа\n",
                "sum(np.array(res) <0.05) / simulations"
            ]
        },
        {
            "cell_type": "markdown",
            "metadata": {},
            "source": [
                "FPR > альфа. Сплит работает некорректно.\n",
                "\n",
                "Разберемся в чем дело.\n",
                "\n",
                "Сгруппируем данные по версии мобильного приложения и найдем конверсию(коэф.) покупок\n"
            ]
        },
        {
            "cell_type": "code",
            "execution_count": 6,
            "metadata": {},
            "outputs": [
                {
                    "data": {
                        "text/html": [
                            "<div>\n",
                            "<style scoped>\n",
                            "    .dataframe tbody tr th:only-of-type {\n",
                            "        vertical-align: middle;\n",
                            "    }\n",
                            "\n",
                            "    .dataframe tbody tr th {\n",
                            "        vertical-align: top;\n",
                            "    }\n",
                            "\n",
                            "    .dataframe thead th {\n",
                            "        text-align: right;\n",
                            "    }\n",
                            "</style>\n",
                            "<table border=\"1\" class=\"dataframe\">\n",
                            "  <thead>\n",
                            "    <tr style=\"text-align: right;\">\n",
                            "      <th></th>\n",
                            "      <th>version</th>\n",
                            "      <th>CR</th>\n",
                            "    </tr>\n",
                            "  </thead>\n",
                            "  <tbody>\n",
                            "    <tr>\n",
                            "      <th>0</th>\n",
                            "      <td>v2.8.0</td>\n",
                            "      <td>0.000993</td>\n",
                            "    </tr>\n",
                            "    <tr>\n",
                            "      <th>1</th>\n",
                            "      <td>v2.9.0</td>\n",
                            "      <td>0.074658</td>\n",
                            "    </tr>\n",
                            "    <tr>\n",
                            "      <th>2</th>\n",
                            "      <td>v3.7.4.0</td>\n",
                            "      <td>0.059943</td>\n",
                            "    </tr>\n",
                            "    <tr>\n",
                            "      <th>3</th>\n",
                            "      <td>v3.8.0.0</td>\n",
                            "      <td>0.057604</td>\n",
                            "    </tr>\n",
                            "  </tbody>\n",
                            "</table>\n",
                            "</div>"
                        ],
                        "text/plain": [
                            "    version        CR\n",
                            "0    v2.8.0  0.000993\n",
                            "1    v2.9.0  0.074658\n",
                            "2  v3.7.4.0  0.059943\n",
                            "3  v3.8.0.0  0.057604"
                        ]
                    },
                    "execution_count": 6,
                    "metadata": {},
                    "output_type": "execute_result"
                }
            ],
            "source": [
                "# Найдмем CR для experimentVariant == 0\n",
                "df[df.experimentVariant == 0].groupby('version', as_index=False).purchase.mean().rename(columns={'purchase' : 'CR'})"
            ]
        },
        {
            "cell_type": "code",
            "execution_count": 7,
            "metadata": {},
            "outputs": [
                {
                    "data": {
                        "text/html": [
                            "<div>\n",
                            "<style scoped>\n",
                            "    .dataframe tbody tr th:only-of-type {\n",
                            "        vertical-align: middle;\n",
                            "    }\n",
                            "\n",
                            "    .dataframe tbody tr th {\n",
                            "        vertical-align: top;\n",
                            "    }\n",
                            "\n",
                            "    .dataframe thead th {\n",
                            "        text-align: right;\n",
                            "    }\n",
                            "</style>\n",
                            "<table border=\"1\" class=\"dataframe\">\n",
                            "  <thead>\n",
                            "    <tr style=\"text-align: right;\">\n",
                            "      <th></th>\n",
                            "      <th>version</th>\n",
                            "      <th>CR</th>\n",
                            "    </tr>\n",
                            "  </thead>\n",
                            "  <tbody>\n",
                            "    <tr>\n",
                            "      <th>0</th>\n",
                            "      <td>v2.8.0</td>\n",
                            "      <td>0.045606</td>\n",
                            "    </tr>\n",
                            "    <tr>\n",
                            "      <th>1</th>\n",
                            "      <td>v2.9.0</td>\n",
                            "      <td>0.071304</td>\n",
                            "    </tr>\n",
                            "    <tr>\n",
                            "      <th>2</th>\n",
                            "      <td>v3.7.4.0</td>\n",
                            "      <td>0.063018</td>\n",
                            "    </tr>\n",
                            "    <tr>\n",
                            "      <th>3</th>\n",
                            "      <td>v3.8.0.0</td>\n",
                            "      <td>0.062848</td>\n",
                            "    </tr>\n",
                            "  </tbody>\n",
                            "</table>\n",
                            "</div>"
                        ],
                        "text/plain": [
                            "    version        CR\n",
                            "0    v2.8.0  0.045606\n",
                            "1    v2.9.0  0.071304\n",
                            "2  v3.7.4.0  0.063018\n",
                            "3  v3.8.0.0  0.062848"
                        ]
                    },
                    "execution_count": 7,
                    "metadata": {},
                    "output_type": "execute_result"
                }
            ],
            "source": [
                "# Найдмем CR для experimentVariant == 1\n",
                "df[df.experimentVariant == 1].groupby('version', as_index=False).purchase.mean().rename(columns={'purchase' : 'CR'})"
            ]
        },
        {
            "cell_type": "markdown",
            "metadata": {},
            "source": [
                "Видно, что в наших группах конверсии у мобильной версии v2.8.0 различаются.\n",
                "\n",
                "___\n"
            ]
        },
        {
            "cell_type": "markdown",
            "metadata": {},
            "source": [
                "Проведем А/А тесты для каждой версии мобильного приложения.\n"
            ]
        },
        {
            "cell_type": "code",
            "execution_count": 8,
            "metadata": {},
            "outputs": [],
            "source": [
                "# Записываем массив с уникальными версия в переменную 'versions'\n",
                "versions = df.version.unique()"
            ]
        },
        {
            "cell_type": "code",
            "execution_count": 83,
            "metadata": {},
            "outputs": [
                {
                    "data": {
                        "application/vnd.jupyter.widget-view+json": {
                            "model_id": "126336913129453ea36fcd44a1948a5d",
                            "version_major": 2,
                            "version_minor": 0
                        },
                        "text/plain": [
                            "  0%|          | 0/1000 [00:00<?, ?it/s]"
                        ]
                    },
                    "metadata": {},
                    "output_type": "display_data"
                },
                {
                    "data": {
                        "image/png": "[encoded data removed]",
                        "text/plain": [
                            "<Figure size 432x288 with 1 Axes>"
                        ]
                    },
                    "metadata": {},
                    "output_type": "display_data"
                },
                {
                    "name": "stdout",
                    "output_type": "stream",
                    "text": [
                        "FPR = 1.0\n"
                    ]
                },
                {
                    "data": {
                        "application/vnd.jupyter.widget-view+json": {
                            "model_id": "6c2bf9cef0744a5d963ec081c2e195fb",
                            "version_major": 2,
                            "version_minor": 0
                        },
                        "text/plain": [
                            "  0%|          | 0/1000 [00:00<?, ?it/s]"
                        ]
                    },
                    "metadata": {},
                    "output_type": "display_data"
                },
                {
                    "data": {
                        "image/png": "[encoded data removed]",
                        "text/plain": [
                            "<Figure size 432x288 with 1 Axes>"
                        ]
                    },
                    "metadata": {},
                    "output_type": "display_data"
                },
                {
                    "name": "stdout",
                    "output_type": "stream",
                    "text": [
                        "FPR = 0.046\n"
                    ]
                },
                {
                    "data": {
                        "application/vnd.jupyter.widget-view+json": {
                            "model_id": "ef7059175d9b4e908159aecebcab359b",
                            "version_major": 2,
                            "version_minor": 0
                        },
                        "text/plain": [
                            "  0%|          | 0/1000 [00:00<?, ?it/s]"
                        ]
                    },
                    "metadata": {},
                    "output_type": "display_data"
                },
                {
                    "data": {
                        "image/png": "[encoded data removed]",
                        "text/plain": [
                            "<Figure size 432x288 with 1 Axes>"
                        ]
                    },
                    "metadata": {},
                    "output_type": "display_data"
                },
                {
                    "name": "stdout",
                    "output_type": "stream",
                    "text": [
                        "FPR = 0.032\n"
                    ]
                },
                {
                    "data": {
                        "application/vnd.jupyter.widget-view+json": {
                            "model_id": "2827570ca593475daa8748c0452c9dd8",
                            "version_major": 2,
                            "version_minor": 0
                        },
                        "text/plain": [
                            "  0%|          | 0/1000 [00:00<?, ?it/s]"
                        ]
                    },
                    "metadata": {},
                    "output_type": "display_data"
                },
                {
                    "data": {
                        "image/png": "[encoded data removed]",
                        "text/plain": [
                            "<Figure size 432x288 with 1 Axes>"
                        ]
                    },
                    "metadata": {},
                    "output_type": "display_data"
                },
                {
                    "name": "stdout",
                    "output_type": "stream",
                    "text": [
                        "FPR = 0.039\n"
                    ]
                }
            ],
            "source": [
                "\n",
                "\n",
                "for x in versions:\n",
                "    simulations = 1000\n",
                "    n_s = 1000\n",
                "    res = []\n",
                "\n",
                "    # Запуск симуляций A/A теста\n",
                "    for i in tqdm(range(simulations)):\n",
                "        s1 = df[(df.experimentVariant == 0) & (df.version == x)].purchase.sample(n_s, replace = False).values\n",
                "        s2 = df[(df.experimentVariant == 1) & (df.version == x)].purchase.sample(n_s, replace = False).values\n",
                "    \n",
                "        res.append(stats.ttest_ind(s1, s2, equal_var = False)[1]) # сохраняем pvalue\n",
                "    \n",
                "    plt.hist(res, bins = 50)\n",
                "    plt.style.use('ggplot')\n",
                "    plt.xlabel('pvalues')\n",
                "    plt.ylabel('frequency')\n",
                "    plt.title(f\"Histogram of ttest A/A simulations {x}\")\n",
                "    plt.show()\n",
                "\n",
                "    # Проверяем, что количество ложноположительных случаев не превышает альфа\n",
                "    print('FPR =',sum(np.array(res) <0.05) / simulations)"
            ]
        },
        {
            "cell_type": "markdown",
            "metadata": {},
            "source": [
                "Как и было замечено ранее для версии v2.8.0 :\n",
                "- Значение p value очень низкое (~ 0,00001)\n",
                "- FPR = 1\n",
                "Сплит составлен некорректно.\n",
                "\n",
                "По остальным данным FPR менее альфа\n",
                "___"
            ]
        },
        {
            "cell_type": "markdown",
            "metadata": {},
            "source": [
                "Исключим данные с мобильной версией v2.8.0' и запустим тест еще раз"
            ]
        },
        {
            "cell_type": "code",
            "execution_count": 9,
            "metadata": {},
            "outputs": [
                {
                    "data": {
                        "application/vnd.jupyter.widget-view+json": {
                            "model_id": "bdaddea18d5c4fb6b2be6fb3bea5fd7b",
                            "version_major": 2,
                            "version_minor": 0
                        },
                        "text/plain": [
                            "  0%|          | 0/1000 [00:00<?, ?it/s]"
                        ]
                    },
                    "metadata": {},
                    "output_type": "display_data"
                },
                {
                    "data": {
                        "image/png": "[encoded data removed]",
                        "text/plain": [
                            "<Figure size 432x288 with 1 Axes>"
                        ]
                    },
                    "metadata": {
                        "needs_background": "light"
                    },
                    "output_type": "display_data"
                },
                {
                    "name": "stdout",
                    "output_type": "stream",
                    "text": [
                        "FPR = 0.048\n"
                    ]
                }
            ],
            "source": [
                "\n",
                "simulations = 1000\n",
                "n_s = 1000\n",
                "res = []\n",
                "\n",
                "\n",
                "\n",
                "# Запуск  A/A теста\n",
                "for i in tqdm(range(simulations)):\n",
                "    s1 = df[(df.experimentVariant == 0) & (df.version != 'v2.8.0')].purchase.sample(n_s, replace = False).values\n",
                "    s2 = df[(df.experimentVariant == 1) & (df.version != 'v2.8.0')].purchase.sample(n_s, replace = False).values\n",
                "    res.append(stats.ttest_ind(s1, s2, equal_var = False)[1]) # сохраняем pvalue\n",
                "\n",
                "plt.hist(res, bins = 50)\n",
                "plt.style.use('ggplot')\n",
                "plt.xlabel('pvalues')\n",
                "plt.ylabel('frequency')\n",
                "plt.title(\"Histogram of ttest A/A simulations w/o v2.8.0 \")\n",
                "plt.show()\n",
                "\n",
                "# Проверяем, что количество ложноположительных случаев не превышает альфа\n",
                "print('FPR =',sum(np.array(res) <0.05) / simulations)"
            ]
        },
        {
            "cell_type": "markdown",
            "metadata": {},
            "source": [
                "FPR меньше альфа, можем сделать вывод, что поломка сплит системы действительно основана на версии v2.8.0.\n",
                "Стоит обратить внимание на работу сплит системы. Возможно, рандомизатор работает некорректно."
            ]
        }
    ],
    "metadata": {
        "kernelspec": {
            "display_name": "Python 3.9.12 ('base')",
            "language": "python",
            "name": "python3"
        },
        "language_info": {
            "codemirror_mode": {
                "name": "ipython",
                "version": 3
            },
            "file_extension": ".py",
            "mimetype": "text/x-python",
            "name": "python",
            "nbconvert_exporter": "python",
            "pygments_lexer": "ipython3",
            "version": "3.9.12"
        },
        "vscode": {
            "interpreter": {
                "hash": "f5220056909a2b7f24cd309f2b469a86eb0e01dedd341a7a0197a037a757159f"
            }
        }
    },
    "nbformat": 4,
    "nbformat_minor": 4
}
